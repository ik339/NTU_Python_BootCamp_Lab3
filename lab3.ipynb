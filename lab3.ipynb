{
 "cells": [
  {
   "cell_type": "code",
   "execution_count": 1,
   "id": "585ed704",
   "metadata": {},
   "outputs": [
    {
     "name": "stdout",
     "output_type": "stream",
     "text": [
      "start value?7\n",
      "end value?9\n",
      "step value?1\n",
      "2.0\n"
     ]
    }
   ],
   "source": [
    "start=int(input(\"start value?\"))\n",
    "end= int(input(\"end value?\"))\n",
    "if(end>start):\n",
    "    step=int(input(\"step value?\"))\n",
    "    if(step>0 and step<start and step<start):\n",
    "        res=(end-start)/step\n",
    "        print(res)\n",
    "    else:\n",
    "        print(\"invalid step v\")\n",
    "else:\n",
    "    print(\"invalid start v\")\n",
    "    "
   ]
  },
  {
   "cell_type": "code",
   "execution_count": null,
   "id": "d3f81f67",
   "metadata": {},
   "outputs": [],
   "source": []
  },
  {
   "cell_type": "code",
   "execution_count": 4,
   "id": "c714dff1",
   "metadata": {},
   "outputs": [
    {
     "name": "stdout",
     "output_type": "stream",
     "text": [
      "Your messagejello\n"
     ]
    },
    {
     "data": {
      "text/plain": [
       "'ollej'"
      ]
     },
     "execution_count": 4,
     "metadata": {},
     "output_type": "execute_result"
    }
   ],
   "source": [
    "message= input(\"Your message\")\n",
    "message[::-1]"
   ]
  },
  {
   "cell_type": "code",
   "execution_count": 7,
   "id": "b9f5f3c5",
   "metadata": {
    "scrolled": true
   },
   "outputs": [
    {
     "name": "stdout",
     "output_type": "stream",
     "text": [
      "stringyuoop\n",
      "poouy\n"
     ]
    }
   ],
   "source": [
    "vec=input(\"string\")\n",
    "res=\"\"\n",
    "for i in range(len(vec)-1,-1,-1):\n",
    "    res+=vec[i]\n",
    "print(res)\n"
   ]
  },
  {
   "cell_type": "code",
   "execution_count": 14,
   "id": "991bcb94",
   "metadata": {},
   "outputs": [
    {
     "ename": "SyntaxError",
     "evalue": "invalid syntax (2627299145.py, line 16)",
     "output_type": "error",
     "traceback": [
      "\u001b[0;36m  Input \u001b[0;32mIn [14]\u001b[0;36m\u001b[0m\n\u001b[0;31m    score=5\u001b[0m\n\u001b[0m    ^\u001b[0m\n\u001b[0;31mSyntaxError\u001b[0m\u001b[0;31m:\u001b[0m invalid syntax\n"
     ]
    }
   ],
   "source": [
    "#random word is picked by computer. task 4 of book . \n",
    "#bag fo words\n",
    "import random as r\n",
    "num_words=r.randint(100,200)\n",
    "print(num_words)\n",
    "vec=[]\n",
    "for i in range(num_words):\n",
    "    numb_letter=r.randint(2,10)\n",
    "    string=\"\"\n",
    "    for j in range(numb_letter):\n",
    "        string+=chr(r.randint(97,123))\n",
    "    vec.append(string)\n",
    "print(vec)\n",
    "word_index=r.randint(0,num_words)\n",
    "print(\"the word as the length of\", len(vec[word_index])\n",
    "score=5\n",
    "for i in range(5):\n",
    "    r=input(\"guess letter \")\n",
    "    if vec[word_index].index(r):\n",
    "        print(\"yes\")\n",
    "    else:\n",
    "        print(\"no\")\n",
    "res=input(\"guess word \")\n",
    "if res==vec([word_index]):\n",
    "    print(\"correct\", score, (\"points\"))\n",
    "else:\n",
    "    print(\"incorrect\", vec[word_index])"
   ]
  },
  {
   "cell_type": "code",
   "execution_count": null,
   "id": "f1e40fcf",
   "metadata": {},
   "outputs": [],
   "source": []
  }
 ],
 "metadata": {
  "kernelspec": {
   "display_name": "Python 3 (ipykernel)",
   "language": "python",
   "name": "python3"
  },
  "language_info": {
   "codemirror_mode": {
    "name": "ipython",
    "version": 3
   },
   "file_extension": ".py",
   "mimetype": "text/x-python",
   "name": "python",
   "nbconvert_exporter": "python",
   "pygments_lexer": "ipython3",
   "version": "3.9.12"
  }
 },
 "nbformat": 4,
 "nbformat_minor": 5
}
